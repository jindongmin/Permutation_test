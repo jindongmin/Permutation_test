{
 "cells": [
  {
   "cell_type": "code",
   "execution_count": 2,
   "id": "3e95998c",
   "metadata": {},
   "outputs": [],
   "source": [
    "import pandas as pd\n",
    "\n",
    "#q: how does deseq2 get p values?\n",
    "#the Wald test"
   ]
  },
  {
   "cell_type": "code",
   "execution_count": 3,
   "id": "cafc22fa",
   "metadata": {},
   "outputs": [],
   "source": [
    "#load table from deseq2 and p values from permutation test\n",
    "#disease Healthy vs AD\n",
    "table_ad = pd.read_csv('../ad_res', sep = '\\t', index_col = 0)\n",
    "pvalues_ad = pd.read_csv('../ad_pvalues', sep = '\\t', header=None)\n",
    "# ++  Healthy higher \n",
    "# -- AD higher\n",
    "#contrast=c(\"Groupings\",\"Healthy\",\"AD\")\n",
    "\n",
    "\n",
    "\n",
    "#disease Healthy vs CD\n",
    "table_cd = pd.read_csv('../cd_res', sep = '\\t', index_col = 0)\n",
    "pvalues_cd = pd.read_csv('../cd_pvalues', sep = '\\t', header=None)\n",
    "# ++ healthy higher\n",
    "# -- cd higher\n",
    "#contrast=c(\"Groupings\",\"Healthy\",\"CD\")\n",
    "\n",
    "\n",
    "# disease UC vs Healthy\n",
    "table_uc = pd.read_csv('../uc_res', sep = '\\t', index_col = 0)\n",
    "pvalues_uc = pd.read_csv('../uc_pvalues', sep = '\\t', header=None)\n",
    "# ++ higher uc\n",
    "# -- higher healthy\n",
    "# contrast=c(\"Groupings\",\"Healthy\",\"CD\"), + higher healthy, - higher uc\n",
    "\n",
    "#Example\n",
    "#log2 fold change (MAP): dex trt vs untrt \n",
    "#contrast=c(\"condition\",\"treated\",\"untreated\")\n",
    "# log2FoldChange negative, untrt higher, \n",
    "# the denominator is 'untreated'"
   ]
  },
  {
   "cell_type": "code",
   "execution_count": 4,
   "id": "43512b59",
   "metadata": {
    "scrolled": true
   },
   "outputs": [],
   "source": [
    "#add a new column called permutation_pvalues\n",
    "table_ad['permutation_pvalues'] = pvalues_ad[0].values\n",
    "table_cd['permutation_pvalues'] = pvalues_cd[0].values\n",
    "table_uc['permutation_pvalues'] = pvalues_uc[0].values"
   ]
  },
  {
   "cell_type": "code",
   "execution_count": 311,
   "id": "ab580cf9",
   "metadata": {},
   "outputs": [],
   "source": [
    "all_kegg = pd.DataFrame(set(table_uc.index)|set(table_cd.index)|set(table_ad.index))\n",
    "all_kegg.to_csv('all_kegg.txt', sep = '\\t')"
   ]
  },
  {
   "cell_type": "code",
   "execution_count": 5,
   "id": "4ebb2ac0",
   "metadata": {},
   "outputs": [
    {
     "data": {
      "text/plain": [
       "9090"
      ]
     },
     "execution_count": 5,
     "metadata": {},
     "output_type": "execute_result"
    }
   ],
   "source": [
    "len(set(table_uc.index)|set(table_cd.index)|set(table_ad.index))"
   ]
  },
  {
   "cell_type": "code",
   "execution_count": 6,
   "id": "d5ae0ec6",
   "metadata": {},
   "outputs": [],
   "source": [
    "#filter out keggs have permutation_pvalues > 0.05\n",
    "table_ad_filtered = table_ad.loc[table_ad['permutation_pvalues'] <= 0.05]\n",
    "table_ad_filtered = table_ad_filtered.dropna()\n",
    "table_cd_filtered = table_cd.loc[table_cd['permutation_pvalues'] <= 0.05]\n",
    "table_cd_filtered = table_cd_filtered.dropna()\n",
    "table_uc_filtered = table_uc.loc[table_uc['permutation_pvalues'] <= 0.05]\n",
    "table_uc_filtered = table_uc_filtered.dropna()"
   ]
  },
  {
   "cell_type": "code",
   "execution_count": 8,
   "id": "762a378d",
   "metadata": {
    "scrolled": true
   },
   "outputs": [
    {
     "data": {
      "text/plain": [
       "513"
      ]
     },
     "execution_count": 8,
     "metadata": {},
     "output_type": "execute_result"
    }
   ],
   "source": [
    "padj_ad = set(table_ad.loc[table_ad['padj'] < 0.05].index)\n",
    "permutation_pvalues_ad = set(table_ad.loc[table_ad['permutation_pvalues'] < 0.05].index)\n",
    "len(padj_ad&(permutation_pvalues_ad))"
   ]
  },
  {
   "cell_type": "code",
   "execution_count": 11,
   "id": "2e4d7ba8",
   "metadata": {},
   "outputs": [
    {
     "data": {
      "text/plain": [
       "372.4"
      ]
     },
     "execution_count": 11,
     "metadata": {},
     "output_type": "execute_result"
    }
   ],
   "source": [
    "len(table_ad_filtered)*0.35"
   ]
  },
  {
   "cell_type": "code",
   "execution_count": 12,
   "id": "b58d2a64",
   "metadata": {},
   "outputs": [],
   "source": [
    "i = table_ad_filtered\n",
    "i['CI_5'] = i['log2FoldChange'] - i['lfcSE']*1.96\n",
    "i['CI_95'] = i['log2FoldChange'] + i['lfcSE']*1.96\n",
    "#i_negative = i.sort_values(by=['CI_95'],ascending=True).head(444)\n",
    "i_negative = i.sort_values(by=['CI_95'],ascending=True).head(372)\n",
    "\n",
    "#i_positive = i.sort_values(by=['CI_5'],ascending=False).head(353)\n",
    "i_positive = i.sort_values(by=['CI_5'],ascending=False).head(372)\n",
    "\n",
    "ad_higher_in_case = set(i_negative.index)\n",
    "ad_higher_in_control = set(i_positive.index)\n",
    "# ++  Healthy higher \n",
    "# -- AD higher"
   ]
  },
  {
   "cell_type": "code",
   "execution_count": 13,
   "id": "6db8c9d0",
   "metadata": {},
   "outputs": [
    {
     "data": {
      "text/plain": [
       "1655.1499999999999"
      ]
     },
     "execution_count": 13,
     "metadata": {},
     "output_type": "execute_result"
    }
   ],
   "source": [
    "len(table_cd_filtered)*0.35"
   ]
  },
  {
   "cell_type": "code",
   "execution_count": 14,
   "id": "fdb0b327",
   "metadata": {},
   "outputs": [],
   "source": [
    "i = table_cd_filtered\n",
    "i['CI_5'] = i['log2FoldChange'] - i['lfcSE']*1.96\n",
    "i['CI_95'] = i['log2FoldChange'] + i['lfcSE']*1.96\n",
    "#i_negative = i.sort_values(by=['CI_95'],ascending=True).head(2950)\n",
    "i_negative = i.sort_values(by=['CI_95'],ascending=True).head(1655)\n",
    "\n",
    "#i_positive = i.sort_values(by=['CI_5'],ascending=False).head(1349)\n",
    "i_positive = i.sort_values(by=['CI_5'],ascending=False).head(1655)\n",
    "\n",
    "cd_higher_in_case = set(i_negative.index)\n",
    "cd_higher_in_control = set(i_positive.index)\n",
    "# ++ healthy higher\n",
    "# -- cd higher"
   ]
  },
  {
   "cell_type": "code",
   "execution_count": 15,
   "id": "f3a9b6a0",
   "metadata": {},
   "outputs": [
    {
     "data": {
      "text/plain": [
       "632.8"
      ]
     },
     "execution_count": 15,
     "metadata": {},
     "output_type": "execute_result"
    }
   ],
   "source": [
    "len(table_uc_filtered)*0.35"
   ]
  },
  {
   "cell_type": "code",
   "execution_count": 16,
   "id": "0e21380c",
   "metadata": {},
   "outputs": [],
   "source": [
    "i = table_uc_filtered\n",
    "i['CI_5'] = i['log2FoldChange'] - i['lfcSE']*1.96\n",
    "i['CI_95'] = i['log2FoldChange'] + i['lfcSE']*1.96\n",
    "i_negative = i.sort_values(by=['CI_95'],ascending=True).head(633)\n",
    "#i_negative = i.sort_values(by=['CI_95'],ascending=True).head(574)\n",
    "\n",
    "#i_positive = i.sort_values(by=['CI_5'],ascending=False).head(911)\n",
    "i_positive = i.sort_values(by=['CI_5'],ascending=False).head(633)\n",
    "\n",
    "uc_higher_in_control = set(i_negative.index)\n",
    "uc_higher_in_case = set(i_positive.index)\n",
    "\n",
    "# ++ higher uc\n",
    "# -- higher healthy"
   ]
  },
  {
   "cell_type": "code",
   "execution_count": 17,
   "id": "b47904fc",
   "metadata": {
    "scrolled": true
   },
   "outputs": [
    {
     "data": {
      "text/plain": [
       "8"
      ]
     },
     "execution_count": 17,
     "metadata": {},
     "output_type": "execute_result"
    }
   ],
   "source": [
    "len(ad_higher_in_case.intersection(cd_higher_in_case))"
   ]
  },
  {
   "cell_type": "code",
   "execution_count": 18,
   "id": "1e3f814c",
   "metadata": {},
   "outputs": [
    {
     "data": {
      "text/plain": [
       "20"
      ]
     },
     "execution_count": 18,
     "metadata": {},
     "output_type": "execute_result"
    }
   ],
   "source": [
    "len(ad_higher_in_control.intersection(cd_higher_in_control))"
   ]
  },
  {
   "cell_type": "code",
   "execution_count": 19,
   "id": "7fa81aa2",
   "metadata": {},
   "outputs": [
    {
     "data": {
      "text/plain": [
       "309"
      ]
     },
     "execution_count": 19,
     "metadata": {},
     "output_type": "execute_result"
    }
   ],
   "source": [
    "len(uc_higher_in_case.intersection(cd_higher_in_case))"
   ]
  },
  {
   "cell_type": "code",
   "execution_count": 20,
   "id": "ea853343",
   "metadata": {},
   "outputs": [
    {
     "data": {
      "text/plain": [
       "233"
      ]
     },
     "execution_count": 20,
     "metadata": {},
     "output_type": "execute_result"
    }
   ],
   "source": [
    "len(uc_higher_in_control.intersection(cd_higher_in_control))"
   ]
  },
  {
   "cell_type": "code",
   "execution_count": 21,
   "id": "47a789c2",
   "metadata": {},
   "outputs": [],
   "source": [
    "ad_higher_in_case.intersection(cd_higher_in_case) \n",
    "cd_ad_higher_in_case = pd.DataFrame(ad_higher_in_case.intersection(cd_higher_in_case))\n",
    "cd_ad_higher_in_case.to_csv('cd_ad_higher_in_case.txt', sep = '\\t')\n",
    "ad_higher_in_control.intersection(cd_higher_in_control) \n",
    "cd_ad_higher_in_control = pd.DataFrame(ad_higher_in_control.intersection(cd_higher_in_control))\n",
    "cd_ad_higher_in_control.to_csv('cd_ad_higher_in_control.txt', sep = '\\t')"
   ]
  },
  {
   "cell_type": "code",
   "execution_count": 304,
   "id": "56605f83",
   "metadata": {},
   "outputs": [],
   "source": [
    "cd_uc_higher_in_case = pd.DataFrame(uc_higher_in_case.intersection(cd_higher_in_case))\n",
    "cd_uc_higher_in_case.to_csv('cd_uc_higher_in_case.txt', sep = '\\t')\n",
    "cd_uc_higher_in_control = pd.DataFrame(uc_higher_in_control.intersection(cd_higher_in_control))\n",
    "cd_uc_higher_in_control.to_csv('cd_uc_higher_in_control.txt', sep = '\\t')"
   ]
  }
 ],
 "metadata": {
  "kernelspec": {
   "display_name": "Python 3 (ipykernel)",
   "language": "python",
   "name": "python3"
  },
  "language_info": {
   "codemirror_mode": {
    "name": "ipython",
    "version": 3
   },
   "file_extension": ".py",
   "mimetype": "text/x-python",
   "name": "python",
   "nbconvert_exporter": "python",
   "pygments_lexer": "ipython3",
   "version": "3.9.10"
  }
 },
 "nbformat": 4,
 "nbformat_minor": 5
}
